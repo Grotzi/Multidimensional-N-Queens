{
 "cells": [
  {
   "cell_type": "code",
   "execution_count": 1,
   "metadata": {},
   "outputs": [],
   "source": [
    "# gurobi free license only supports 2000 linear constraints, for higher n a (academic) license is needed\n",
    "import gurobipy as gp\n",
    "import numpy as np\n",
    "from gurobipy import GRB\n",
    "import matplotlib.pyplot as plt\n",
    "import string\n",
    "import seaborn as sns"
   ]
  },
  {
   "cell_type": "code",
   "execution_count": 2,
   "metadata": {},
   "outputs": [],
   "source": [
    "def createmodel(n: int):\n",
    "    model = gp.Model('nqueens')\n",
    "    squares = model.addMVar((n, n, n), vtype=GRB.BINARY, name=\"x\")\n",
    "    model.setObjective(squares.sum(), GRB.MAXIMIZE)\n",
    "    model.params.LogToConsole = 0  \n",
    "    # row/file constraints:\n",
    "    for i in range(n):\n",
    "        for j in range(n):\n",
    "            model.addConstr(squares[i, j, :].sum() <= 1)\n",
    "            model.addConstr(squares[i, :, j].sum() <= 1)\n",
    "            model.addConstr(squares[:, i, j].sum() <= 1)\n",
    "    # diagonal constraints:\n",
    "    for m in range(n):\n",
    "        model.addConstrs(gp.quicksum(squares[i, j, m] for i in range(n) for j in range(n) if i - j == k) <= 1 for k in range(-n, n))\n",
    "        model.addConstrs(gp.quicksum(squares[i, j, m] for i in range(n) for j in range(n) if i + j == k) <= 1 for k in range(2 * n))\n",
    "        model.addConstrs(gp.quicksum(squares[i, m, j] for i in range(n) for j in range(n) if i - j == k) <= 1 for k in range(-n, n))\n",
    "        model.addConstrs(gp.quicksum(squares[i, m, j] for i in range(n) for j in range(n) if i + j == k) <= 1 for k in range(2 * n))\n",
    "        model.addConstrs(gp.quicksum(squares[m, i, j] for i in range(n) for j in range(n) if i - j == k) <= 1 for k in range(-n, n))\n",
    "        model.addConstrs(gp.quicksum(squares[m, i, j] for i in range(n) for j in range(n) if i + j == k) <= 1 for k in range(2 * n))\n",
    "    #triagonal constraints:\n",
    "    model.addConstrs(gp.quicksum(squares[i, j, m] for i in range(n) for j in range(n) for m in range(n) if i - j == k and j-m==l) <= 1 for k in range(-n, n) for l in range(-n,n))\n",
    "    model.addConstrs(gp.quicksum(squares[i, j, m] for i in range(n) for j in range(n) for m in range(n) if i + j == k and j-m==l) <= 1 for k in range(0, 2*n) for l in range(-n,n))\n",
    "    model.addConstrs(gp.quicksum(squares[i, j, m] for i in range(n) for j in range(n) for m in range(n) if i + j == k and j+m==l) <= 1 for k in range(0, 2*n) for l in range(0,2*n))\n",
    "    model.addConstrs(gp.quicksum(squares[i, j, m] for i in range(n) for j in range(n) for m in range(n) if i - j == k and j+m==l) <= 1 for k in range(-n, n) for l in range(0,2*n))\n",
    "    model.params.PoolSolutions = 10**6\n",
    "    model.params.PoolGap = 0  \n",
    "    return(model, squares)"
   ]
  },
  {
   "cell_type": "code",
   "execution_count": 3,
   "metadata": {},
   "outputs": [],
   "source": [
    "def solve(n: int, model, squares):\n",
    "    model.params.LogToConsole = 0   \n",
    "    model.optimize()"
   ]
  },
  {
   "cell_type": "code",
   "execution_count": 4,
   "metadata": {},
   "outputs": [],
   "source": [
    "def plot(n: int, squares):\n",
    "    fig, ax = plt.subplots(nrows=n, ncols=1, figsize=(2,2))\n",
    "    mode = 3 #different plot modes, wip\n",
    "    \n",
    "    for d in range(n):\n",
    "        image = np.zeros(n*n)\n",
    "        image = image.reshape((n, n))\n",
    "        row_labels = range(n)\n",
    "        col_labels = list(string.ascii_uppercase[0:n])\n",
    "        if n > 26:\n",
    "            col_labels = range(n)\n",
    "        for i in range(n):\n",
    "            for j in range(n):\n",
    "                if (i+j)%2 == 0:\n",
    "                    image[i,j] = 0.5\n",
    "                if mode == 1 and squares.X[i,j,d] == 1:\n",
    "                    image[i,j] = squares.X[i,j,d]+0.5\n",
    "                if mode == 2 and squares.X[i,d,j] == 1:\n",
    "                    image[i,j] = squares.X[i,d,j]+0.5\n",
    "                if mode == 3 and squares.X[d,i,j] == 1:\n",
    "                    image[i,j] = squares.X[d,i,j]+0.5\n",
    "        ax[d] = plt.matshow(image)\n",
    "        plt.xticks(range(n), col_labels)\n",
    "        plt.yticks(range(n), row_labels)\n",
    "\n",
    "    plt.show()"
   ]
  },
  {
   "cell_type": "code",
   "execution_count": 5,
   "metadata": {},
   "outputs": [
    {
     "name": "stdout",
     "output_type": "stream",
     "text": [
      "Set parameter Username\n",
      "\n",
      "--------------------------------------------\n",
      "Warning: your license will expire in 8 days\n",
      "--------------------------------------------\n",
      "\n",
      "Academic license - for non-commercial use only - expires 2022-01-20\n"
     ]
    },
    {
     "data": {
      "image/png": "[encoded data removed]",
      "text/plain": [
       "<Figure size 144x144 with 5 Axes>"
      ]
     },
     "metadata": {
      "needs_background": "light"
     },
     "output_type": "display_data"
    },
    {
     "data": {
      "image/png": "[encoded data removed]",
      "text/plain": [
       "<Figure size 288x288 with 1 Axes>"
      ]
     },
     "metadata": {
      "needs_background": "light"
     },
     "output_type": "display_data"
    },
    {
     "data": {
      "image/png": "[encoded data removed]",
      "text/plain": [
       "<Figure size 288x288 with 1 Axes>"
      ]
     },
     "metadata": {
      "needs_background": "light"
     },
     "output_type": "display_data"
    },
    {
     "data": {
      "image/png": "[encoded data removed]",
      "text/plain": [
       "<Figure size 288x288 with 1 Axes>"
      ]
     },
     "metadata": {
      "needs_background": "light"
     },
     "output_type": "display_data"
    },
    {
     "data": {
      "image/png": "[encoded data removed]",
      "text/plain": [
       "<Figure size 288x288 with 1 Axes>"
      ]
     },
     "metadata": {
      "needs_background": "light"
     },
     "output_type": "display_data"
    },
    {
     "data": {
      "image/png": "[encoded data removed]",
      "text/plain": [
       "<Figure size 288x288 with 1 Axes>"
      ]
     },
     "metadata": {
      "needs_background": "light"
     },
     "output_type": "display_data"
    },
    {
     "data": {
      "text/plain": [
       "13.0"
      ]
     },
     "execution_count": 5,
     "metadata": {},
     "output_type": "execute_result"
    }
   ],
   "source": [
    "#example how to run the code\n",
    "n = 5\n",
    "model, squares = createmodel(n)\n",
    "solve(n, model, squares)\n",
    "plot(n, squares)\n",
    "model.objVal"
   ]
  },
  {
   "cell_type": "code",
   "execution_count": 10,
   "metadata": {},
   "outputs": [
    {
     "name": "stdout",
     "output_type": "stream",
     "text": [
      "Queens placed: 1.0 in 0.0 sec\n",
      "Queens placed: 1.0 in 0.001003265380859375 sec\n",
      "Queens placed: 4.0 in 0.002033233642578125 sec\n",
      "Queens placed: 7.0 in 0.069183349609375 sec\n",
      "Queens placed: 13.0 in 0.6026020050048828 sec\n",
      "Queens placed: 21.0 in 41.04021644592285 sec\n"
     ]
    },
    {
     "data": {
      "text/plain": [
       "<AxesSubplot:>"
      ]
     },
     "execution_count": 10,
     "metadata": {},
     "output_type": "execute_result"
    },
    {
     "data": {
      "image/png": "[encoded data removed]",
      "text/plain": [
       "<Figure size 432x288 with 1 Axes>"
      ]
     },
     "metadata": {
      "needs_background": "light"
     },
     "output_type": "display_data"
    }
   ],
   "source": [
    "# runs the instances from n=l k and saves the results and runtimes\n",
    "l = 1 #start\n",
    "k = 6 #end\n",
    "runtime = np.zeros((k+1,3))\n",
    "for i in range(l,k+1):\n",
    "    model, squares = createmodel(i)\n",
    "    model.params.LogToConsole = 0\n",
    "    solve(i, model, squares)\n",
    "    runtime[i,1] = model.runtime\n",
    "    runtime[i,2] = model.objVal\n",
    "    runtime[i,0] = i\n",
    "    print('Queens placed: '+str(model.objVal)+\" in \"+str(model.runtime)+\" sec\")\n",
    "runtime  \n",
    "sns.lineplot(y=runtime[:,1], x=runtime[:,0])"
   ]
  },
  {
   "cell_type": "code",
   "execution_count": 11,
   "metadata": {},
   "outputs": [
    {
     "data": {
      "text/plain": [
       "<AxesSubplot:>"
      ]
     },
     "execution_count": 11,
     "metadata": {},
     "output_type": "execute_result"
    },
    {
     "data": {
      "image/png": "[encoded data removed]",
      "text/plain": [
       "<Figure size 432x288 with 1 Axes>"
      ]
     },
     "metadata": {
      "needs_background": "light"
     },
     "output_type": "display_data"
    }
   ],
   "source": [
    "sns.lineplot(y=runtime[:,2], x=runtime[:,0])"
   ]
  },
  {
   "cell_type": "code",
   "execution_count": null,
   "metadata": {},
   "outputs": [],
   "source": []
  }
 ],
 "metadata": {
  "kernelspec": {
   "display_name": "Python 3",
   "language": "python",
   "name": "python3"
  },
  "language_info": {
   "codemirror_mode": {
    "name": "ipython",
    "version": 3
   },
   "file_extension": ".py",
   "mimetype": "text/x-python",
   "name": "python",
   "nbconvert_exporter": "python",
   "pygments_lexer": "ipython3",
   "version": "3.8.0"
  }
 },
 "nbformat": 4,
 "nbformat_minor": 4
}
