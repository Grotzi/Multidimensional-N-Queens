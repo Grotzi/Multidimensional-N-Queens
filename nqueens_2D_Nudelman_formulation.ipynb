{
 "cells": [
  {
   "cell_type": "code",
   "execution_count": 1,
   "metadata": {},
   "outputs": [],
   "source": [
    "# gurobi free license only supports 2000 linear constraints, for higher n a (academic) license is needed\n",
    "import gurobipy as gp\n",
    "import numpy as np\n",
    "from gurobipy import GRB\n",
    "import matplotlib.pyplot as plt\n",
    "import string\n",
    "import matplotlib\n",
    "import seaborn as sns"
   ]
  },
  {
   "cell_type": "code",
   "execution_count": 2,
   "metadata": {},
   "outputs": [],
   "source": [
    "def createmodel(n):\n",
    "    model = gp.Model('nqueens')\n",
    "    model.params.LogToConsole = 0\n",
    "    squares = model.addMVar((n, n), vtype=GRB.BINARY, name=\"x\")\n",
    "    model.setObjective(squares.sum(), GRB.MAXIMIZE)\n",
    "    # alternative formulation following Nudelman, in one line (technically)\n",
    "    for e_1 in range(0,2):\n",
    "        for e_2 in range(-1,2):\n",
    "            if (e_1!=0 or e_2!=0) and e_1+e_2>=0:\n",
    "                model.addConstrs(gp.quicksum(squares[i, j] for i in range(n) for j in range(n) if e_1*i + e_2*j == k) <= 1 for k in range(max(e_1,e_2,0)*-n, (e_1+max(e_2,0))*n))                     \n",
    "    model.params.PoolSearchMode = 0  \n",
    "    model.params.PoolSolutions = 10**6\n",
    "    model.params.PoolGap = 0  \n",
    "    return(model, squares)"
   ]
  },
  {
   "cell_type": "code",
   "execution_count": 3,
   "metadata": {},
   "outputs": [],
   "source": [
    "def solve(n, model, squares, mode):\n",
    "    model.params.LogToConsole = 0   \n",
    "    model.optimize()\n",
    "    \n",
    "    if mode == 1:\n",
    "        \n",
    "        image = np.zeros(n*n)\n",
    "        image = image.reshape((n, n))\n",
    "        row_labels = range(n)\n",
    "        col_labels = list(string.ascii_uppercase[0:n])\n",
    "        if n > 26:\n",
    "            col_labels = range(n)\n",
    "\n",
    "        for i in range(n):\n",
    "            for j in range(n):\n",
    "                if (i+j)%2 == 0:\n",
    "                    image[i,j] = 0.5\n",
    "                if squares.X[i,j] == 1:\n",
    "                    image[i,j] = squares.X[i,j]+0.5\n",
    "        plt.figure(figsize=(10,10))\n",
    "        plt.matshow(image, fignum=1)\n",
    "        plt.xticks(range(n), col_labels)\n",
    "        plt.yticks(range(n), row_labels)\n",
    "        plt.show()\n",
    "        print('Queens placed: %g' % model.objVal)"
   ]
  },
  {
   "cell_type": "code",
   "execution_count": 4,
   "metadata": {},
   "outputs": [
    {
     "name": "stdout",
     "output_type": "stream",
     "text": [
      "Set parameter Username\n",
      "\n",
      "--------------------------------------------\n",
      "Warning: your license will expire in 8 days\n",
      "--------------------------------------------\n",
      "\n",
      "Academic license - for non-commercial use only - expires 2022-01-20\n"
     ]
    },
    {
     "data": {
      "image/png": "[encoded data removed]",
      "text/plain": [
       "<Figure size 720x720 with 1 Axes>"
      ]
     },
     "metadata": {
      "needs_background": "light"
     },
     "output_type": "display_data"
    },
    {
     "name": "stdout",
     "output_type": "stream",
     "text": [
      "Queens placed: 8\n"
     ]
    }
   ],
   "source": [
    "#example how to run the code\n",
    "n = 8\n",
    "model, squares = createmodel(n)\n",
    "solve(n, model, squares, 1)"
   ]
  },
  {
   "cell_type": "code",
   "execution_count": null,
   "metadata": {},
   "outputs": [],
   "source": []
  }
 ],
 "metadata": {
  "kernelspec": {
   "display_name": "Python 3 (ipykernel)",
   "language": "python",
   "name": "python3"
  },
  "language_info": {
   "codemirror_mode": {
    "name": "ipython",
    "version": 3
   },
   "file_extension": ".py",
   "mimetype": "text/x-python",
   "name": "python",
   "nbconvert_exporter": "python",
   "pygments_lexer": "ipython3",
   "version": "3.9.9"
  }
 },
 "nbformat": 4,
 "nbformat_minor": 4
}
